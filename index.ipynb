{
 "cells": [
  {
   "cell_type": "markdown",
   "id": "75042e24",
   "metadata": {},
   "source": [
    "## Predicting who is likely to leave. A KNN aproach \n",
    "#### Project Overview\n",
    "The project's focus is to train a machine learning model capable of flagging customers who are at risk of churning. The aim of the model is to help the company's customer support team to better direct their efforts in terms of customer retention."
   ]
  },
  {
   "cell_type": "markdown",
   "id": "bf0445df",
   "metadata": {},
   "source": [
    "#### Background Information\n",
    "Customer churn is a major challenge for telecom companies like Syriatel; predicting churn reduces revenue loss by allowing them to take preventive measures like offering promotions or resolving service issues. We aim to use customer data collected by Syriatel to generate patterns associated with customer churn and build a model to flag at-risk customers.\n",
    "\n",
    "By analysing these patterns, we aim to identify which features are strong indicators of churn. The model will also help evaluate how distance metrics and different values of k affect prediction accuracy, guiding both technical improvements and customer retention strategies."
   ]
  },
  {
   "cell_type": "markdown",
   "id": "0ec556bd",
   "metadata": {},
   "source": [
    "## Problem Statement\n",
    "Syriatel faces unpredictable customer churn, that impacts revenue and market share. (**Assumption**)Despite heavy investment in marketing and acquisition, customers leave without warning. In order to identify at-risk customers early, this project will use existing data; usage patterns, subscriptions, and service interactions. All with an aim of early intervention for retention of the customer.\n",
    "\n",
    "### Objectives\n",
    "1. Understanding how usage patterns affect customer churn.\n",
    "2. Factors that cause customer dissatisfaction.\n",
    "3. Building a model to flag high-risk customers."
   ]
  },
  {
   "cell_type": "code",
   "execution_count": 2,
   "id": "46131eac",
   "metadata": {},
   "outputs": [
    {
     "name": "stdout",
     "output_type": "stream",
     "text": [
      "<class 'pandas.core.frame.DataFrame'>\n",
      "RangeIndex: 3333 entries, 0 to 3332\n",
      "Data columns (total 21 columns):\n",
      " #   Column                  Non-Null Count  Dtype  \n",
      "---  ------                  --------------  -----  \n",
      " 0   state                   3333 non-null   object \n",
      " 1   account length          3333 non-null   int64  \n",
      " 2   area code               3333 non-null   int64  \n",
      " 3   phone number            3333 non-null   object \n",
      " 4   international plan      3333 non-null   object \n",
      " 5   voice mail plan         3333 non-null   object \n",
      " 6   number vmail messages   3333 non-null   int64  \n",
      " 7   total day minutes       3333 non-null   float64\n",
      " 8   total day calls         3333 non-null   int64  \n",
      " 9   total day charge        3333 non-null   float64\n",
      " 10  total eve minutes       3333 non-null   float64\n",
      " 11  total eve calls         3333 non-null   int64  \n",
      " 12  total eve charge        3333 non-null   float64\n",
      " 13  total night minutes     3333 non-null   float64\n",
      " 14  total night calls       3333 non-null   int64  \n",
      " 15  total night charge      3333 non-null   float64\n",
      " 16  total intl minutes      3333 non-null   float64\n",
      " 17  total intl calls        3333 non-null   int64  \n",
      " 18  total intl charge       3333 non-null   float64\n",
      " 19  customer service calls  3333 non-null   int64  \n",
      " 20  churn                   3333 non-null   bool   \n",
      "dtypes: bool(1), float64(8), int64(8), object(4)\n",
      "memory usage: 524.2+ KB\n"
     ]
    }
   ],
   "source": [
    "# Import libraries \n",
    "import pandas as pd\n",
    "import numpy as np\n",
    "import seaborn as sns\n",
    "import matplotlib.pyplot as plt\n",
    "\n",
    "# Load dataset\n",
    "df = pd.read_csv('churn.csv')\n",
    "df.info()"
   ]
  },
  {
   "cell_type": "markdown",
   "id": "498622ac",
   "metadata": {},
   "source": [
    "#### Lets look at the first 5 rows to know how our dataset looks like"
   ]
  },
  {
   "cell_type": "code",
   "execution_count": 3,
   "id": "aa9ddd12",
   "metadata": {},
   "outputs": [
    {
     "data": {
      "text/html": [
       "<div>\n",
       "<style scoped>\n",
       "    .dataframe tbody tr th:only-of-type {\n",
       "        vertical-align: middle;\n",
       "    }\n",
       "\n",
       "    .dataframe tbody tr th {\n",
       "        vertical-align: top;\n",
       "    }\n",
       "\n",
       "    .dataframe thead th {\n",
       "        text-align: right;\n",
       "    }\n",
       "</style>\n",
       "<table border=\"1\" class=\"dataframe\">\n",
       "  <thead>\n",
       "    <tr style=\"text-align: right;\">\n",
       "      <th></th>\n",
       "      <th>state</th>\n",
       "      <th>account length</th>\n",
       "      <th>area code</th>\n",
       "      <th>phone number</th>\n",
       "      <th>international plan</th>\n",
       "      <th>voice mail plan</th>\n",
       "      <th>number vmail messages</th>\n",
       "      <th>total day minutes</th>\n",
       "      <th>total day calls</th>\n",
       "      <th>total day charge</th>\n",
       "      <th>...</th>\n",
       "      <th>total eve calls</th>\n",
       "      <th>total eve charge</th>\n",
       "      <th>total night minutes</th>\n",
       "      <th>total night calls</th>\n",
       "      <th>total night charge</th>\n",
       "      <th>total intl minutes</th>\n",
       "      <th>total intl calls</th>\n",
       "      <th>total intl charge</th>\n",
       "      <th>customer service calls</th>\n",
       "      <th>churn</th>\n",
       "    </tr>\n",
       "  </thead>\n",
       "  <tbody>\n",
       "    <tr>\n",
       "      <th>0</th>\n",
       "      <td>KS</td>\n",
       "      <td>128</td>\n",
       "      <td>415</td>\n",
       "      <td>382-4657</td>\n",
       "      <td>no</td>\n",
       "      <td>yes</td>\n",
       "      <td>25</td>\n",
       "      <td>265.1</td>\n",
       "      <td>110</td>\n",
       "      <td>45.07</td>\n",
       "      <td>...</td>\n",
       "      <td>99</td>\n",
       "      <td>16.78</td>\n",
       "      <td>244.7</td>\n",
       "      <td>91</td>\n",
       "      <td>11.01</td>\n",
       "      <td>10.0</td>\n",
       "      <td>3</td>\n",
       "      <td>2.70</td>\n",
       "      <td>1</td>\n",
       "      <td>False</td>\n",
       "    </tr>\n",
       "    <tr>\n",
       "      <th>1</th>\n",
       "      <td>OH</td>\n",
       "      <td>107</td>\n",
       "      <td>415</td>\n",
       "      <td>371-7191</td>\n",
       "      <td>no</td>\n",
       "      <td>yes</td>\n",
       "      <td>26</td>\n",
       "      <td>161.6</td>\n",
       "      <td>123</td>\n",
       "      <td>27.47</td>\n",
       "      <td>...</td>\n",
       "      <td>103</td>\n",
       "      <td>16.62</td>\n",
       "      <td>254.4</td>\n",
       "      <td>103</td>\n",
       "      <td>11.45</td>\n",
       "      <td>13.7</td>\n",
       "      <td>3</td>\n",
       "      <td>3.70</td>\n",
       "      <td>1</td>\n",
       "      <td>False</td>\n",
       "    </tr>\n",
       "    <tr>\n",
       "      <th>2</th>\n",
       "      <td>NJ</td>\n",
       "      <td>137</td>\n",
       "      <td>415</td>\n",
       "      <td>358-1921</td>\n",
       "      <td>no</td>\n",
       "      <td>no</td>\n",
       "      <td>0</td>\n",
       "      <td>243.4</td>\n",
       "      <td>114</td>\n",
       "      <td>41.38</td>\n",
       "      <td>...</td>\n",
       "      <td>110</td>\n",
       "      <td>10.30</td>\n",
       "      <td>162.6</td>\n",
       "      <td>104</td>\n",
       "      <td>7.32</td>\n",
       "      <td>12.2</td>\n",
       "      <td>5</td>\n",
       "      <td>3.29</td>\n",
       "      <td>0</td>\n",
       "      <td>False</td>\n",
       "    </tr>\n",
       "    <tr>\n",
       "      <th>3</th>\n",
       "      <td>OH</td>\n",
       "      <td>84</td>\n",
       "      <td>408</td>\n",
       "      <td>375-9999</td>\n",
       "      <td>yes</td>\n",
       "      <td>no</td>\n",
       "      <td>0</td>\n",
       "      <td>299.4</td>\n",
       "      <td>71</td>\n",
       "      <td>50.90</td>\n",
       "      <td>...</td>\n",
       "      <td>88</td>\n",
       "      <td>5.26</td>\n",
       "      <td>196.9</td>\n",
       "      <td>89</td>\n",
       "      <td>8.86</td>\n",
       "      <td>6.6</td>\n",
       "      <td>7</td>\n",
       "      <td>1.78</td>\n",
       "      <td>2</td>\n",
       "      <td>False</td>\n",
       "    </tr>\n",
       "    <tr>\n",
       "      <th>4</th>\n",
       "      <td>OK</td>\n",
       "      <td>75</td>\n",
       "      <td>415</td>\n",
       "      <td>330-6626</td>\n",
       "      <td>yes</td>\n",
       "      <td>no</td>\n",
       "      <td>0</td>\n",
       "      <td>166.7</td>\n",
       "      <td>113</td>\n",
       "      <td>28.34</td>\n",
       "      <td>...</td>\n",
       "      <td>122</td>\n",
       "      <td>12.61</td>\n",
       "      <td>186.9</td>\n",
       "      <td>121</td>\n",
       "      <td>8.41</td>\n",
       "      <td>10.1</td>\n",
       "      <td>3</td>\n",
       "      <td>2.73</td>\n",
       "      <td>3</td>\n",
       "      <td>False</td>\n",
       "    </tr>\n",
       "  </tbody>\n",
       "</table>\n",
       "<p>5 rows × 21 columns</p>\n",
       "</div>"
      ],
      "text/plain": [
       "  state  account length  area code phone number international plan  \\\n",
       "0    KS             128        415     382-4657                 no   \n",
       "1    OH             107        415     371-7191                 no   \n",
       "2    NJ             137        415     358-1921                 no   \n",
       "3    OH              84        408     375-9999                yes   \n",
       "4    OK              75        415     330-6626                yes   \n",
       "\n",
       "  voice mail plan  number vmail messages  total day minutes  total day calls  \\\n",
       "0             yes                     25              265.1              110   \n",
       "1             yes                     26              161.6              123   \n",
       "2              no                      0              243.4              114   \n",
       "3              no                      0              299.4               71   \n",
       "4              no                      0              166.7              113   \n",
       "\n",
       "   total day charge  ...  total eve calls  total eve charge  \\\n",
       "0             45.07  ...               99             16.78   \n",
       "1             27.47  ...              103             16.62   \n",
       "2             41.38  ...              110             10.30   \n",
       "3             50.90  ...               88              5.26   \n",
       "4             28.34  ...              122             12.61   \n",
       "\n",
       "   total night minutes  total night calls  total night charge  \\\n",
       "0                244.7                 91               11.01   \n",
       "1                254.4                103               11.45   \n",
       "2                162.6                104                7.32   \n",
       "3                196.9                 89                8.86   \n",
       "4                186.9                121                8.41   \n",
       "\n",
       "   total intl minutes  total intl calls  total intl charge  \\\n",
       "0                10.0                 3               2.70   \n",
       "1                13.7                 3               3.70   \n",
       "2                12.2                 5               3.29   \n",
       "3                 6.6                 7               1.78   \n",
       "4                10.1                 3               2.73   \n",
       "\n",
       "   customer service calls  churn  \n",
       "0                       1  False  \n",
       "1                       1  False  \n",
       "2                       0  False  \n",
       "3                       2  False  \n",
       "4                       3  False  \n",
       "\n",
       "[5 rows x 21 columns]"
      ]
     },
     "execution_count": 3,
     "metadata": {},
     "output_type": "execute_result"
    }
   ],
   "source": [
    "df.head()"
   ]
  },
  {
   "cell_type": "markdown",
   "id": "8122de84",
   "metadata": {},
   "source": [
    "#### Rows and columns"
   ]
  },
  {
   "cell_type": "code",
   "execution_count": 4,
   "id": "11577754",
   "metadata": {},
   "outputs": [
    {
     "name": "stdout",
     "output_type": "stream",
     "text": [
      "(3333, 21), \n",
      " Index(['state', 'account length', 'area code', 'phone number',\n",
      "       'international plan', 'voice mail plan', 'number vmail messages',\n",
      "       'total day minutes', 'total day calls', 'total day charge',\n",
      "       'total eve minutes', 'total eve calls', 'total eve charge',\n",
      "       'total night minutes', 'total night calls', 'total night charge',\n",
      "       'total intl minutes', 'total intl calls', 'total intl charge',\n",
      "       'customer service calls', 'churn'],\n",
      "      dtype='object')\n"
     ]
    }
   ],
   "source": [
    "print(f'{df.shape}, \\n {df.columns}')"
   ]
  },
  {
   "cell_type": "markdown",
   "id": "5d60e334",
   "metadata": {},
   "source": [
    "#### Datatypes "
   ]
  },
  {
   "cell_type": "code",
   "execution_count": 5,
   "id": "f6da49cd",
   "metadata": {},
   "outputs": [
    {
     "data": {
      "text/plain": [
       "state                      object\n",
       "account length              int64\n",
       "area code                   int64\n",
       "phone number               object\n",
       "international plan         object\n",
       "voice mail plan            object\n",
       "number vmail messages       int64\n",
       "total day minutes         float64\n",
       "total day calls             int64\n",
       "total day charge          float64\n",
       "total eve minutes         float64\n",
       "total eve calls             int64\n",
       "total eve charge          float64\n",
       "total night minutes       float64\n",
       "total night calls           int64\n",
       "total night charge        float64\n",
       "total intl minutes        float64\n",
       "total intl calls            int64\n",
       "total intl charge         float64\n",
       "customer service calls      int64\n",
       "churn                        bool\n",
       "dtype: object"
      ]
     },
     "execution_count": 5,
     "metadata": {},
     "output_type": "execute_result"
    }
   ],
   "source": [
    "df.dtypes"
   ]
  },
  {
   "cell_type": "markdown",
   "id": "62155362",
   "metadata": {},
   "source": [
    "### EDA"
   ]
  },
  {
   "cell_type": "markdown",
   "id": "731461c1",
   "metadata": {},
   "source": [
    "1. We will drop unnecessary columns \n",
    "2. Encode objects and bools "
   ]
  },
  {
   "cell_type": "code",
   "execution_count": 6,
   "id": "2033ddfb",
   "metadata": {},
   "outputs": [
    {
     "name": "stdout",
     "output_type": "stream",
     "text": [
      "<class 'pandas.core.frame.DataFrame'>\n",
      "RangeIndex: 3333 entries, 0 to 3332\n",
      "Data columns (total 18 columns):\n",
      " #   Column                  Non-Null Count  Dtype  \n",
      "---  ------                  --------------  -----  \n",
      " 0   phone number            3333 non-null   object \n",
      " 1   international plan      3333 non-null   object \n",
      " 2   voice mail plan         3333 non-null   object \n",
      " 3   number vmail messages   3333 non-null   int64  \n",
      " 4   total day minutes       3333 non-null   float64\n",
      " 5   total day calls         3333 non-null   int64  \n",
      " 6   total day charge        3333 non-null   float64\n",
      " 7   total eve minutes       3333 non-null   float64\n",
      " 8   total eve calls         3333 non-null   int64  \n",
      " 9   total eve charge        3333 non-null   float64\n",
      " 10  total night minutes     3333 non-null   float64\n",
      " 11  total night calls       3333 non-null   int64  \n",
      " 12  total night charge      3333 non-null   float64\n",
      " 13  total intl minutes      3333 non-null   float64\n",
      " 14  total intl calls        3333 non-null   int64  \n",
      " 15  total intl charge       3333 non-null   float64\n",
      " 16  customer service calls  3333 non-null   int64  \n",
      " 17  churn                   3333 non-null   bool   \n",
      "dtypes: bool(1), float64(8), int64(6), object(3)\n",
      "memory usage: 446.0+ KB\n"
     ]
    }
   ],
   "source": [
    "# Drop unnecessary columns\n",
    "df_copy = df.drop(['state', 'account length', 'area code'], axis=1)\n",
    "df_copy.info()"
   ]
  },
  {
   "cell_type": "code",
   "execution_count": 7,
   "id": "e9505dc2",
   "metadata": {},
   "outputs": [
    {
     "name": "stdout",
     "output_type": "stream",
     "text": [
      "<class 'pandas.core.frame.DataFrame'>\n",
      "RangeIndex: 3333 entries, 0 to 3332\n",
      "Data columns (total 18 columns):\n",
      " #   Column                  Non-Null Count  Dtype  \n",
      "---  ------                  --------------  -----  \n",
      " 0   phone number            3333 non-null   int64  \n",
      " 1   international plan      3333 non-null   int64  \n",
      " 2   voice mail plan         3333 non-null   int64  \n",
      " 3   number vmail messages   3333 non-null   int64  \n",
      " 4   total day minutes       3333 non-null   float64\n",
      " 5   total day calls         3333 non-null   int64  \n",
      " 6   total day charge        3333 non-null   float64\n",
      " 7   total eve minutes       3333 non-null   float64\n",
      " 8   total eve calls         3333 non-null   int64  \n",
      " 9   total eve charge        3333 non-null   float64\n",
      " 10  total night minutes     3333 non-null   float64\n",
      " 11  total night calls       3333 non-null   int64  \n",
      " 12  total night charge      3333 non-null   float64\n",
      " 13  total intl minutes      3333 non-null   float64\n",
      " 14  total intl calls        3333 non-null   int64  \n",
      " 15  total intl charge       3333 non-null   float64\n",
      " 16  customer service calls  3333 non-null   int64  \n",
      " 17  churn                   3333 non-null   int64  \n",
      "dtypes: float64(8), int64(10)\n",
      "memory usage: 468.8 KB\n"
     ]
    }
   ],
   "source": [
    "# Transform categorical columns to numerical\n",
    "from sklearn.preprocessing import LabelEncoder\n",
    "\n",
    "df_en = df_copy.copy()\n",
    "\n",
    "# Instantiate the encoder\n",
    "le = LabelEncoder()\n",
    "\n",
    "# Apply the encoder to categorical columns\n",
    "\n",
    "for col in df_en.select_dtypes(exclude='number').columns:\n",
    "    df_en[col] = le.fit_transform(df_en[col])\n",
    "\n",
    "df_en.info()\n"
   ]
  },
  {
   "cell_type": "markdown",
   "id": "e0a8158b",
   "metadata": {},
   "source": [
    "### Visualize the charges against churn to see if it has any effect on churning"
   ]
  },
  {
   "cell_type": "code",
   "execution_count": 8,
   "id": "3c4405f5",
   "metadata": {},
   "outputs": [
    {
     "data": {
      "image/png": "[encoded data removed]",
      "text/plain": [
       "<Figure size 1000x600 with 1 Axes>"
      ]
     },
     "metadata": {},
     "output_type": "display_data"
    }
   ],
   "source": [
    "# Why use mean\n",
    "# Why do some people have more charges than others? - Is it because they use the phone more often?\n",
    "charge_col = ['total day charge', 'total eve charge', 'total night charge', 'total intl charge']\n",
    "df_en.groupby('churn')[charge_col].mean().T.plot(kind='bar', figsize=(10,6)) \n",
    "plt.title('Charges vs churning')\n",
    "plt.ylabel('Average charges ($)')\n",
    "plt.legend(['Not churned', 'Churned'])\n",
    "plt.show()"
   ]
  },
  {
   "cell_type": "markdown",
   "id": "9f2dac04",
   "metadata": {},
   "source": [
    "The people who churn have more charges \n",
    "\n",
    "Next we'll look at how customer service department impact the churn rate.\n"
   ]
  },
  {
   "cell_type": "code",
   "execution_count": 9,
   "id": "808048f6",
   "metadata": {},
   "outputs": [
    {
     "data": {
      "image/png": "[encoded data removed]",
      "text/plain": [
       "<Figure size 640x480 with 1 Axes>"
      ]
     },
     "metadata": {},
     "output_type": "display_data"
    }
   ],
   "source": [
    "### Objective \n",
    "# Factors that cause customer dissatisfaction \n",
    "sns.barplot(y='customer service calls', x='churn', data=df_en, color='red')\n",
    "plt.title('Customer service calls vs Churn')\n",
    "plt.show()"
   ]
  },
  {
   "cell_type": "markdown",
   "id": "e1962363",
   "metadata": {},
   "source": [
    "Customers who tend to churn make more calls to customer cares office, this means that the challenges raised weren't delt with. We recommend identifying the main cause of the calls and deal with the issues raised.\n",
    "\n",
    "Next we investigate if voice mail plan affects churn rate"
   ]
  },
  {
   "cell_type": "code",
   "execution_count": 29,
   "id": "bcce3752",
   "metadata": {},
   "outputs": [
    {
     "name": "stdout",
     "output_type": "stream",
     "text": [
      "3333\n"
     ]
    }
   ],
   "source": [
    "# Let's see how many unique phone numbers are there\n",
    "\n",
    "print(df_en['phone number'].nunique())"
   ]
  },
  {
   "cell_type": "code",
   "execution_count": null,
   "id": "dceacbe2",
   "metadata": {},
   "outputs": [
    {
     "name": "stdout",
     "output_type": "stream",
     "text": [
      "voice mail plan\n",
      "0    2411\n",
      "1     922\n",
      "Name: phone number, dtype: int64\n"
     ]
    }
   ],
   "source": [
    "# How many customers have voice mail plans?\n",
    "\n",
    "print(df_en.groupby('voice mail plan')['phone number'].count())"
   ]
  },
  {
   "cell_type": "code",
   "execution_count": null,
   "id": "eeb1e511",
   "metadata": {},
   "outputs": [
    {
     "name": "stdout",
     "output_type": "stream",
     "text": [
      "churn  voice mail plan\n",
      "0      0                  2008\n",
      "       1                   842\n",
      "1      0                   403\n",
      "       1                    80\n",
      "dtype: int64\n"
     ]
    }
   ],
   "source": [
    "# How many customers with voice mail plans churned vs those without?\n",
    "print(df_en.groupby(['churn', 'voice mail plan']).size())"
   ]
  },
  {
   "cell_type": "markdown",
   "id": "dc9d94f0",
   "metadata": {},
   "source": [
    "Out of a total of 3,333 customers, 2,850 (85.5%) did not churn while 483 (14.5%) did.\n",
    "Among those who did not churn, 2,008 (70.5%) did not have a voicemail plan and 842 (29.5%) did.\n",
    "Among the 483 customers who churned, 403 (83.4%) did not have a voicemail plan and only 80 (16.6%) did.\n",
    "\n",
    "Overall, 922 customers (27.7%) had a voicemail plan and 80 of them (8.7%) churned.\n",
    "In contrast, 2,411 customers (72.3%) did not have a voicemail plan and 403 of them (16.7%) churned.\n",
    "\n",
    "This indicates that customers without a voicemail plan are nearly twice as likely to churn compared to those who have one, suggesting that having a voicemail plan may help reduce churn."
   ]
  },
  {
   "cell_type": "code",
   "execution_count": 22,
   "id": "9f7cc9c3",
   "metadata": {},
   "outputs": [
    {
     "data": {
      "image/png": "[encoded data removed]",
      "text/plain": [
       "<Figure size 640x480 with 1 Axes>"
      ]
     },
     "metadata": {},
     "output_type": "display_data"
    }
   ],
   "source": [
    "sns.barplot(x='churn', y='voice mail plan', data=df_en, color='yellow')\n",
    "plt.title('Voice mail plan vs Churn')\n",
    "plt.show()"
   ]
  },
  {
   "cell_type": "markdown",
   "id": "4fec4429",
   "metadata": {},
   "source": [
    "This indicates that customers who subscribed to a voicemail plan were less likely to churn compared to those without one. However, since the majority of customers do not have a voicemail plan, and the overall difference in churn rate is moderate, this feature may not be a primary driver of churn. \n",
    "\n",
    "\n",
    "Lets see if international plan also affects churn rate."
   ]
  },
  {
   "cell_type": "code",
   "execution_count": 12,
   "id": "30c1568d",
   "metadata": {},
   "outputs": [
    {
     "data": {
      "image/png": "[encoded data removed]",
      "text/plain": [
       "<Figure size 640x480 with 1 Axes>"
      ]
     },
     "metadata": {},
     "output_type": "display_data"
    }
   ],
   "source": [
    "sns.barplot(y='international plan', x='churn', data=df_en, color='blue')\n",
    "plt.title('International plan vs Churn')\n",
    "plt.show()"
   ]
  },
  {
   "cell_type": "markdown",
   "id": "f16f25e6",
   "metadata": {},
   "source": [
    "From the graph, most of the customers who churn are heavy users of international plan, this might indicate a flaw in terms of the package ordered, or customers who are about to churn leave the country a lot making them more likely to switch providers. So we recommend putting targeted intervention to customers who use the international plan. \n",
    "\n",
    "\n",
    "Lets create a machine learning model to help use flag at-risk customers."
   ]
  }
 ],
 "metadata": {
  "kernelspec": {
   "display_name": "Python 3",
   "language": "python",
   "name": "python3"
  },
  "language_info": {
   "codemirror_mode": {
    "name": "ipython",
    "version": 3
   },
   "file_extension": ".py",
   "mimetype": "text/x-python",
   "name": "python",
   "nbconvert_exporter": "python",
   "pygments_lexer": "ipython3",
   "version": "3.13.1"
  }
 },
 "nbformat": 4,
 "nbformat_minor": 5
}
